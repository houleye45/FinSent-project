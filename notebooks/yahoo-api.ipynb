{
 "cells": [
  {
   "cell_type": "code",
   "execution_count": 2,
   "metadata": {},
   "outputs": [
    {
     "name": "stdout",
     "output_type": "stream",
     "text": [
      "Collecting yfinance\n",
      "  Downloading yfinance-0.2.66-py2.py3-none-any.whl.metadata (6.0 kB)\n",
      "Requirement already satisfied: pandas>=1.3.0 in /Users/houleyeanne/Documents/FinSent/env/env/lib/python3.12/site-packages (from yfinance) (2.3.2)\n",
      "Requirement already satisfied: numpy>=1.16.5 in /Users/houleyeanne/Documents/FinSent/env/env/lib/python3.12/site-packages (from yfinance) (2.3.3)\n",
      "Requirement already satisfied: requests>=2.31 in /Users/houleyeanne/Documents/FinSent/env/env/lib/python3.12/site-packages (from yfinance) (2.32.5)\n",
      "Collecting multitasking>=0.0.7 (from yfinance)\n",
      "  Downloading multitasking-0.0.12.tar.gz (19 kB)\n",
      "  Installing build dependencies ... \u001b[?25ldone\n",
      "\u001b[?25h  Getting requirements to build wheel ... \u001b[?25ldone\n",
      "\u001b[?25h  Preparing metadata (pyproject.toml) ... \u001b[?25ldone\n",
      "\u001b[?25hRequirement already satisfied: platformdirs>=2.0.0 in /Users/houleyeanne/Documents/FinSent/env/env/lib/python3.12/site-packages (from yfinance) (4.4.0)\n",
      "Requirement already satisfied: pytz>=2022.5 in /Users/houleyeanne/Documents/FinSent/env/env/lib/python3.12/site-packages (from yfinance) (2025.2)\n",
      "Collecting frozendict>=2.3.4 (from yfinance)\n",
      "  Downloading frozendict-2.4.6-py312-none-any.whl.metadata (23 kB)\n",
      "Collecting peewee>=3.16.2 (from yfinance)\n",
      "  Downloading peewee-3.18.2.tar.gz (949 kB)\n",
      "\u001b[2K     \u001b[90m━━━━━━━━━━━━━━━━━━━━━━━━━━━━━━━━━━━━━━━━\u001b[0m \u001b[32m949.2/949.2 kB\u001b[0m \u001b[31m9.5 MB/s\u001b[0m  \u001b[33m0:00:00\u001b[0m\n",
      "\u001b[?25h  Installing build dependencies ... \u001b[?25ldone\n",
      "\u001b[?25h  Getting requirements to build wheel ... \u001b[?25ldone\n",
      "\u001b[?25h  Preparing metadata (pyproject.toml) ... \u001b[?25ldone\n",
      "\u001b[?25hRequirement already satisfied: beautifulsoup4>=4.11.1 in /Users/houleyeanne/Documents/FinSent/env/env/lib/python3.12/site-packages (from yfinance) (4.13.5)\n",
      "Collecting curl_cffi>=0.7 (from yfinance)\n",
      "  Downloading curl_cffi-0.13.0-cp39-abi3-macosx_10_9_x86_64.whl.metadata (13 kB)\n",
      "Collecting protobuf>=3.19.0 (from yfinance)\n",
      "  Downloading protobuf-6.32.1-cp39-abi3-macosx_10_9_universal2.whl.metadata (593 bytes)\n",
      "Collecting websockets>=13.0 (from yfinance)\n",
      "  Downloading websockets-15.0.1-cp312-cp312-macosx_10_13_x86_64.whl.metadata (6.8 kB)\n",
      "Requirement already satisfied: soupsieve>1.2 in /Users/houleyeanne/Documents/FinSent/env/env/lib/python3.12/site-packages (from beautifulsoup4>=4.11.1->yfinance) (2.8)\n",
      "Requirement already satisfied: typing-extensions>=4.0.0 in /Users/houleyeanne/Documents/FinSent/env/env/lib/python3.12/site-packages (from beautifulsoup4>=4.11.1->yfinance) (4.15.0)\n",
      "Requirement already satisfied: cffi>=1.12.0 in /Users/houleyeanne/Documents/FinSent/env/env/lib/python3.12/site-packages (from curl_cffi>=0.7->yfinance) (2.0.0)\n",
      "Requirement already satisfied: certifi>=2024.2.2 in /Users/houleyeanne/Documents/FinSent/env/env/lib/python3.12/site-packages (from curl_cffi>=0.7->yfinance) (2025.8.3)\n",
      "Requirement already satisfied: pycparser in /Users/houleyeanne/Documents/FinSent/env/env/lib/python3.12/site-packages (from cffi>=1.12.0->curl_cffi>=0.7->yfinance) (2.23)\n",
      "Requirement already satisfied: python-dateutil>=2.8.2 in /Users/houleyeanne/Documents/FinSent/env/env/lib/python3.12/site-packages (from pandas>=1.3.0->yfinance) (2.9.0.post0)\n",
      "Requirement already satisfied: tzdata>=2022.7 in /Users/houleyeanne/Documents/FinSent/env/env/lib/python3.12/site-packages (from pandas>=1.3.0->yfinance) (2025.2)\n",
      "Requirement already satisfied: six>=1.5 in /Users/houleyeanne/Documents/FinSent/env/env/lib/python3.12/site-packages (from python-dateutil>=2.8.2->pandas>=1.3.0->yfinance) (1.17.0)\n",
      "Requirement already satisfied: charset_normalizer<4,>=2 in /Users/houleyeanne/Documents/FinSent/env/env/lib/python3.12/site-packages (from requests>=2.31->yfinance) (3.4.3)\n",
      "Requirement already satisfied: idna<4,>=2.5 in /Users/houleyeanne/Documents/FinSent/env/env/lib/python3.12/site-packages (from requests>=2.31->yfinance) (3.10)\n",
      "Requirement already satisfied: urllib3<3,>=1.21.1 in /Users/houleyeanne/Documents/FinSent/env/env/lib/python3.12/site-packages (from requests>=2.31->yfinance) (2.5.0)\n",
      "Downloading yfinance-0.2.66-py2.py3-none-any.whl (123 kB)\n",
      "Downloading curl_cffi-0.13.0-cp39-abi3-macosx_10_9_x86_64.whl (5.7 MB)\n",
      "\u001b[2K   \u001b[90m━━━━━━━━━━━━━━━━━━━━━━━━━━━━━━━━━━━━━━━━\u001b[0m \u001b[32m5.7/5.7 MB\u001b[0m \u001b[31m18.0 MB/s\u001b[0m  \u001b[33m0:00:00\u001b[0m eta \u001b[36m0:00:01\u001b[0m\n",
      "\u001b[?25hDownloading frozendict-2.4.6-py312-none-any.whl (16 kB)\n",
      "Downloading protobuf-6.32.1-cp39-abi3-macosx_10_9_universal2.whl (426 kB)\n",
      "Downloading websockets-15.0.1-cp312-cp312-macosx_10_13_x86_64.whl (173 kB)\n",
      "Building wheels for collected packages: multitasking, peewee\n",
      "  Building wheel for multitasking (pyproject.toml) ... \u001b[?25ldone\n",
      "\u001b[?25h  Created wheel for multitasking: filename=multitasking-0.0.12-py3-none-any.whl size=15636 sha256=f6dfe24ad74e7dfbe8fe6ccc4dd0dc0829916620774d6d4ea02c0ea08bf4d04d\n",
      "  Stored in directory: /Users/houleyeanne/Library/Caches/pip/wheels/cc/bd/6f/664d62c99327abeef7d86489e6631cbf45b56fbf7ef1d6ef00\n",
      "  Building wheel for peewee (pyproject.toml) ... \u001b[?25ldone\n",
      "\u001b[?25h  Created wheel for peewee: filename=peewee-3.18.2-cp312-cp312-macosx_10_15_x86_64.whl size=271828 sha256=78ca151e25d51c66a20f73678ef7589c7eac7a6698e3773a7af6993579bad668\n",
      "  Stored in directory: /Users/houleyeanne/Library/Caches/pip/wheels/d1/df/a9/0202b051c65b11c992dd6db9f2babdd2c44ec7d35d511be5d3\n",
      "Successfully built multitasking peewee\n",
      "\u001b[33mWARNING: Error parsing dependencies of pyzmq: Invalid version: '27.1.0 2'\u001b[0m\u001b[33m\n",
      "\u001b[0mInstalling collected packages: peewee, multitasking, websockets, protobuf, frozendict, curl_cffi, yfinance\n",
      "\u001b[2K   \u001b[90m━━━━━━━━━━━━━━━━━━━━━━━━━━━━━━━━━━━━━━━━\u001b[0m \u001b[32m7/7\u001b[0m [yfinance]6/7\u001b[0m [yfinance]]]\n",
      "\u001b[1A\u001b[2K\u001b[31mERROR: Exception:\n",
      "Traceback (most recent call last):\n",
      "  File \"/Users/houleyeanne/Documents/FinSent/env/env/lib/python3.12/site-packages/pip/_internal/cli/base_command.py\", line 107, in _run_wrapper\n",
      "    status = _inner_run()\n",
      "             ^^^^^^^^^^^^\n",
      "  File \"/Users/houleyeanne/Documents/FinSent/env/env/lib/python3.12/site-packages/pip/_internal/cli/base_command.py\", line 98, in _inner_run\n",
      "    return self.run(options, args)\n",
      "           ^^^^^^^^^^^^^^^^^^^^^^^\n",
      "  File \"/Users/houleyeanne/Documents/FinSent/env/env/lib/python3.12/site-packages/pip/_internal/cli/req_command.py\", line 71, in wrapper\n",
      "    return func(self, options, args)\n",
      "           ^^^^^^^^^^^^^^^^^^^^^^^^^\n",
      "  File \"/Users/houleyeanne/Documents/FinSent/env/env/lib/python3.12/site-packages/pip/_internal/commands/install.py\", line 487, in run\n",
      "    installed_versions[distribution.canonical_name] = distribution.version\n",
      "                                                      ^^^^^^^^^^^^^^^^^^^^\n",
      "  File \"/Users/houleyeanne/Documents/FinSent/env/env/lib/python3.12/site-packages/pip/_internal/metadata/importlib/_dists.py\", line 169, in version\n",
      "    return parse_version(version)\n",
      "           ^^^^^^^^^^^^^^^^^^^^^^\n",
      "  File \"/Users/houleyeanne/Documents/FinSent/env/env/lib/python3.12/site-packages/pip/_vendor/packaging/version.py\", line 56, in parse\n",
      "    return Version(version)\n",
      "           ^^^^^^^^^^^^^^^^\n",
      "  File \"/Users/houleyeanne/Documents/FinSent/env/env/lib/python3.12/site-packages/pip/_vendor/packaging/version.py\", line 202, in __init__\n",
      "    raise InvalidVersion(f\"Invalid version: {version!r}\")\n",
      "pip._vendor.packaging.version.InvalidVersion: Invalid version: '27.1.0 2'\u001b[0m\u001b[31m\n",
      "\u001b[0mNote: you may need to restart the kernel to use updated packages.\n"
     ]
    }
   ],
   "source": [
    "pip install yfinance"
   ]
  },
  {
   "cell_type": "code",
   "execution_count": 3,
   "metadata": {},
   "outputs": [
    {
     "name": "stderr",
     "output_type": "stream",
     "text": [
      "/var/folders/11/hbm7kx2s11j_b5bzk_j67_740000gn/T/ipykernel_19781/297236197.py:8: FutureWarning: YF.download() has changed argument auto_adjust default to True\n",
      "  df = yf.download(t, period=\"1mo\", interval=\"1d\")\n",
      "[*********************100%***********************]  1 of 1 completed\n",
      "/var/folders/11/hbm7kx2s11j_b5bzk_j67_740000gn/T/ipykernel_19781/297236197.py:8: FutureWarning: YF.download() has changed argument auto_adjust default to True\n",
      "  df = yf.download(t, period=\"1mo\", interval=\"1d\")\n",
      "[*********************100%***********************]  1 of 1 completed\n",
      "/var/folders/11/hbm7kx2s11j_b5bzk_j67_740000gn/T/ipykernel_19781/297236197.py:8: FutureWarning: YF.download() has changed argument auto_adjust default to True\n",
      "  df = yf.download(t, period=\"1mo\", interval=\"1d\")\n",
      "[*********************100%***********************]  1 of 1 completed\n",
      "/var/folders/11/hbm7kx2s11j_b5bzk_j67_740000gn/T/ipykernel_19781/297236197.py:8: FutureWarning: YF.download() has changed argument auto_adjust default to True\n",
      "  df = yf.download(t, period=\"1mo\", interval=\"1d\")\n",
      "[*********************100%***********************]  1 of 1 completed\n"
     ]
    }
   ],
   "source": [
    "import yfinance as yf\n",
    "import pandas as pd\n",
    "\n",
    "tickers = [\"AAPL\", \"MSFT\", \"TSLA\", \"GOOG\"]  # exemple de tickers\n",
    "data = {}\n",
    "\n",
    "for t in tickers:\n",
    "    df = yf.download(t, period=\"1mo\", interval=\"1d\")\n",
    "    df.reset_index(inplace=True)\n",
    "    df[\"Ticker\"] = t\n",
    "    data[t] = df\n",
    "\n",
    "\n"
   ]
  },
  {
   "cell_type": "code",
   "execution_count": 4,
   "metadata": {},
   "outputs": [
    {
     "name": "stdout",
     "output_type": "stream",
     "text": [
      "✅ Stock data saved: 88 rows to data/raw/stock_prices_api.csv\n"
     ]
    }
   ],
   "source": [
    "df_all = pd.concat(data.values(), ignore_index=True)\n",
    "df_all.to_csv(\"Users/houleyeanne/Documents/FinSent/data/raw/stock_prices_api.csv\", index=False)\n",
    "print(f\"✅ Stock data saved: {df_all.shape[0]} rows to data/raw/stock_prices_api.csv\")"
   ]
  }
 ],
 "metadata": {
  "kernelspec": {
   "display_name": "Python (env_finsent)",
   "language": "python",
   "name": "mon_env"
  },
  "language_info": {
   "codemirror_mode": {
    "name": "ipython",
    "version": 3
   },
   "file_extension": ".py",
   "mimetype": "text/x-python",
   "name": "python",
   "nbconvert_exporter": "python",
   "pygments_lexer": "ipython3",
   "version": "3.12.4"
  }
 },
 "nbformat": 4,
 "nbformat_minor": 2
}
