{
 "cells": [
  {
   "cell_type": "code",
   "execution_count": 2,
   "metadata": {},
   "outputs": [
    {
     "name": "stderr",
     "output_type": "stream",
     "text": [
      "/Users/houleyeanne/Documents/FinSent/env/env/lib/python3.12/site-packages/google/cloud/bigquery/table.py:1994: UserWarning: BigQuery Storage module not found, fetch data with the REST endpoint instead.\n",
      "  warnings.warn(\n"
     ]
    },
    {
     "name": "stdout",
     "output_type": "stream",
     "text": [
      "✅ GDELT data saved: 572 rows to data/raw/gdelt_events.csv\n"
     ]
    }
   ],
   "source": [
    "from google.cloud import bigquery\n",
    "import pandas as pd\n",
    "import os\n",
    "\n",
    "# Indiquer la clé JSON directement\n",
    "os.environ[\"GOOGLE_APPLICATION_CREDENTIALS\"] = \"Users/houleyeanne/Documents/FinSent/docs/caramel-anvil-472412-p4-4f437b2e15ad.json\"\n",
    "\n",
    "# Initialiser le client\n",
    "client = bigquery.Client()\n",
    "\n",
    "# Initialiser le client BigQuery\n",
    "client = bigquery.Client()\n",
    "\n",
    "# Exemple de requête sur GDELT (événements financiers en septembre 2025)\n",
    "query = \"\"\"\n",
    "SELECT\n",
    "  SQLDATE,\n",
    "  SourceURL,\n",
    "  Actor1Name,\n",
    "  Actor2Name,\n",
    "  EventCode,\n",
    "  GoldsteinScale,\n",
    "  AvgTone\n",
    "FROM `gdelt-bq.gdeltv2.events`\n",
    "WHERE SQLDATE >= 20250901\n",
    "  AND (Actor1Name LIKE '%STOCK%' OR Actor2Name LIKE '%STOCK%')\n",
    "LIMIT 1000\n",
    "\"\"\"\n",
    "\n",
    "# Exécuter la requête\n",
    "df_gdelt = client.query(query).to_dataframe()\n",
    "\n",
    "# Sauvegarder en CSV\n",
    "df_gdelt.to_csv(\"/Users/houleyeanne/Documents/FinSent/data/raw/gdelt_events.csv\", index=False)\n",
    "print(f\"✅ GDELT data saved: {df_gdelt.shape[0]} rows to data/raw/gdelt_events.csv\")\n"
   ]
  }
 ],
 "metadata": {
  "kernelspec": {
   "display_name": "Python (env_finsent)",
   "language": "python",
   "name": "mon_env"
  },
  "language_info": {
   "codemirror_mode": {
    "name": "ipython",
    "version": 3
   },
   "file_extension": ".py",
   "mimetype": "text/x-python",
   "name": "python",
   "nbconvert_exporter": "python",
   "pygments_lexer": "ipython3",
   "version": "3.12.4"
  }
 },
 "nbformat": 4,
 "nbformat_minor": 2
}
