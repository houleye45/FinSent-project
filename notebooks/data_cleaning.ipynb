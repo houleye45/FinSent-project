{
 "cells": [
  {
   "cell_type": "code",
   "execution_count": 2,
   "metadata": {},
   "outputs": [
    {
     "name": "stdout",
     "output_type": "stream",
     "text": [
      "Nombre de fichiers trouvés: 12\n",
      "(6461, 8)\n",
      "         Date        Open        High         Low       Close   Volume  \\\n",
      "0  2019-05-31  271.279999  272.910004  268.750000  270.899994  2526600   \n",
      "1  2019-06-03  270.510010  272.809998  257.529999  259.029999  3903400   \n",
      "2  2019-06-04  263.269989  268.929993  257.459991  268.709991  3750800   \n",
      "3  2019-06-05  272.779999  273.209991  268.390015  272.859985  2650400   \n",
      "4  2019-06-06  273.720001  275.760010  271.049988  274.799988  2211800   \n",
      "\n",
      "   Dividends  Stock Splits  \n",
      "0        0.0           0.0  \n",
      "1        0.0           0.0  \n",
      "2        0.0           0.0  \n",
      "3        0.0           0.0  \n",
      "4        0.0           0.0  \n",
      "✅ Fichier unique créé: data/processed/all_stock_prices.csv\n"
     ]
    }
   ],
   "source": [
    "import pandas as pd\n",
    "import glob\n",
    "import os\n",
    "\n",
    "folder_path = r'/Users/houleyeanne/Documents/FinSent/data/raw/kaggle' # use your path\n",
    "\n",
    "all_files = glob.glob(os.path.join(folder_path, \"*.csv\"))\n",
    "\n",
    "print(f\"Nombre de fichiers trouvés: {len(all_files)}\")\n",
    "\n",
    "# Lecture et concaténation\n",
    "df_list = [pd.read_csv(file) for file in all_files]\n",
    "df = pd.concat(df_list, ignore_index=True)\n",
    "\n",
    "# Vérification rapide\n",
    "print(df.shape)\n",
    "print(df.head())\n",
    "\n",
    "#df.to_csv(\"/Users/houleyeanne/Documents/FinSent/data/cleaned/all_stock_prices.csv\", index=False)\n",
    "print(\"✅ Fichier unique créé: data/processed/all_stock_prices.csv\")\n"
   ]
  },
  {
   "cell_type": "code",
   "execution_count": 3,
   "metadata": {},
   "outputs": [
    {
     "name": "stdout",
     "output_type": "stream",
     "text": [
      "Date            0\n",
      "Open            0\n",
      "High            0\n",
      "Low             0\n",
      "Close           0\n",
      "Volume          0\n",
      "Dividends       0\n",
      "Stock Splits    0\n",
      "dtype: int64\n",
      "<class 'pandas.core.frame.DataFrame'>\n",
      "RangeIndex: 6461 entries, 0 to 6460\n",
      "Data columns (total 8 columns):\n",
      " #   Column        Non-Null Count  Dtype         \n",
      "---  ------        --------------  -----         \n",
      " 0   Date          6461 non-null   datetime64[ns]\n",
      " 1   Open          6461 non-null   float64       \n",
      " 2   High          6461 non-null   float64       \n",
      " 3   Low           6461 non-null   float64       \n",
      " 4   Close         6461 non-null   float64       \n",
      " 5   Volume        6461 non-null   int64         \n",
      " 6   Dividends     6461 non-null   float64       \n",
      " 7   Stock Splits  6461 non-null   float64       \n",
      "dtypes: datetime64[ns](1), float64(6), int64(1)\n",
      "memory usage: 403.9 KB\n",
      "None\n",
      "(6461, 8)\n",
      "        Date        Open        High         Low       Close   Volume  \\\n",
      "0 2019-05-31  271.279999  272.910004  268.750000  270.899994  2526600   \n",
      "1 2019-06-03  270.510010  272.809998  257.529999  259.029999  3903400   \n",
      "2 2019-06-04  263.269989  268.929993  257.459991  268.709991  3750800   \n",
      "3 2019-06-05  272.779999  273.209991  268.390015  272.859985  2650400   \n",
      "4 2019-06-06  273.720001  275.760010  271.049988  274.799988  2211800   \n",
      "\n",
      "   Dividends  Stock Splits  \n",
      "0        0.0           0.0  \n",
      "1        0.0           0.0  \n",
      "2        0.0           0.0  \n",
      "3        0.0           0.0  \n",
      "4        0.0           0.0  \n"
     ]
    }
   ],
   "source": [
    "\n",
    "# Convertir Date en datetime\n",
    "df[\"Date\"] = pd.to_datetime(df[\"Date\"], errors=\"coerce\")\n",
    "\n",
    "# Supprimer les doublons\n",
    "df = df.drop_duplicates()\n",
    "\n",
    "# Supprimer lignes avec Date vide\n",
    "df = df.dropna(subset=[\"Date\"])\n",
    "\n",
    "# Vérification des NaN restants\n",
    "print(df.isna().sum())\n",
    "\n",
    "# Aperçu\n",
    "print(df.info())\n",
    "print(df.shape)\n",
    "print(df.head())\n"
   ]
  },
  {
   "cell_type": "code",
   "execution_count": 5,
   "metadata": {},
   "outputs": [
    {
     "name": "stdout",
     "output_type": "stream",
     "text": [
      "Date              0\n",
      "SourceURL         0\n",
      "Actor1Name        0\n",
      "Actor2Name        0\n",
      "EventCode         0\n",
      "GoldsteinScale    0\n",
      "AvgTone           0\n",
      "dtype: int64\n",
      "        Date                                          SourceURL    Actor1Name  \\\n",
      "0 2025-09-18  https://www.zonebourse.com/actualite-bourse/el...  MANUFACTURER   \n",
      "1 2025-09-18  https://www.zonebourse.com/actualite-bourse/el...     STOCKHOLM   \n",
      "2 2025-09-18  https://www.prnewswire.com/news-releases/nomin...     STOCKHOLM   \n",
      "3 2025-09-18  https://www.prnewswire.com/news-releases/nomin...       UNKNOWN   \n",
      "4 2025-09-18  https://www.globalsecurity.org/military/librar...     STOCKHOLM   \n",
      "\n",
      "     Actor2Name  EventCode  GoldsteinScale   AvgTone  \n",
      "0     STOCKHOLM         46             7.0  0.000000  \n",
      "1  MANUFACTURER         46             7.0  0.000000  \n",
      "2       UNKNOWN         36             4.0  0.380965  \n",
      "3     STOCKHOLM         36             4.0  0.380965  \n",
      "4     BRAZILIAN         40             1.0  1.923077  \n"
     ]
    }
   ],
   "source": [
    "df_gdelt = pd.read_csv(\"/Users/houleyeanne/Documents/FinSent/data/raw/gdelt_events.csv\")\n",
    "\n",
    "# Convertir la date au format YYYY-MM-DD\n",
    "df_gdelt[\"SQLDATE\"] = pd.to_datetime(df_gdelt[\"SQLDATE\"], format=\"%Y%m%d\", errors=\"coerce\")\n",
    "\n",
    "# Renommer la colonne pour plus de clarté\n",
    "df_gdelt = df_gdelt.rename(columns={\"SQLDATE\": \"Date\"})\n",
    "\n",
    "# Remplacer NaN par UNKNOWN\n",
    "df_gdelt[\"Actor1Name\"] = df_gdelt[\"Actor1Name\"].fillna(\"UNKNOWN\")\n",
    "df_gdelt[\"Actor2Name\"] = df_gdelt[\"Actor2Name\"].fillna(\"UNKNOWN\")\n",
    "\n",
    "# Vérification\n",
    "print(df_gdelt.isna().sum())\n",
    "print(df_gdelt.head())"
   ]
  }
 ],
 "metadata": {
  "kernelspec": {
   "display_name": "Python (env_finsent)",
   "language": "python",
   "name": "mon_env"
  },
  "language_info": {
   "codemirror_mode": {
    "name": "ipython",
    "version": 3
   },
   "file_extension": ".py",
   "mimetype": "text/x-python",
   "name": "python",
   "nbconvert_exporter": "python",
   "pygments_lexer": "ipython3",
   "version": "3.12.4"
  }
 },
 "nbformat": 4,
 "nbformat_minor": 2
}
