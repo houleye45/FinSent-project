{
 "cells": [
  {
   "cell_type": "code",
   "execution_count": 15,
   "metadata": {},
   "outputs": [],
   "source": [
    "import requests\n",
    "from bs4 import BeautifulSoup as bs\n",
    "import pandas as pd\n",
    "from datetime import datetime"
   ]
  },
  {
   "cell_type": "code",
   "execution_count": 24,
   "metadata": {},
   "outputs": [],
   "source": [
    "def scrape_yahoo_article(url):\n",
    "    headers = {\"User-Agent\": \"Mozilla/5.0\"}\n",
    "    response = requests.get(url, headers=headers)\n",
    "    soup = BeautifulSoup(response.text, \"html.parser\")\n",
    "    \n",
    "    # Titre\n",
    "    title_tag = soup.find(\"h1\", {\"class\": \"cover-title\"})\n",
    "    title = title_tag.get_text(strip=True) if title_tag else \"No title\"\n",
    "    \n",
    "    # Date\n",
    "    time_tag = soup.find(\"time\", {\"class\": \"byline-attr-meta-time\"})\n",
    "    date = time_tag[\"datetime\"] if time_tag else None\n",
    "    \n",
    "    # Corps de l'article\n",
    "    paragraphs = soup.find_all(\"p\", {\"class\": \"yf-1090901\"})\n",
    "    body = \" \".join(p.get_text(strip=True) for p in paragraphs)\n",
    "    \n",
    "    return {\n",
    "        \"title\": title,\n",
    "        \"date\": date,\n",
    "        \"body\": body,\n",
    "        \"url\": url,\n",
    "        \"source\": \"Yahoo Finance\"\n",
    "    }"
   ]
  },
  {
   "cell_type": "code",
   "execution_count": null,
   "metadata": {},
   "outputs": [],
   "source": [
    "urls = [\n",
    "    \"https://finance.yahoo.com/news/live/stock-market-today-dow-drops-sp-500-and-nasdaq-slip-from-records-as-wall-street-counts-down-to-fed-decision-200039695.html?utm_source=chatgpt.com\",\n",
    "    \"https://finance.yahoo.com/news/stock-market-today-market-awaits-150140374.html\",\n",
    "    \"https://finance.yahoo.com/news/live/stock-market-today-nasdaq-leads-jump-in-dow-sp-500-futures-after-fed-signals-more-rate-cuts-ahead-231448264.html\"\n",
    "]\n",
    "\n",
    "articles = [scrape_yahoo_article(u) for u in urls]\n",
    "df = pd.DataFrame(articles)\n",
    "df.to_csv(\"/Users/houleyeanne/Documents/FinSent/data/raw/yahoo_finance_news.csv\", index=False)\n",
    "print(df)"
   ]
  }
 ],
 "metadata": {
  "kernelspec": {
   "display_name": "Python (env_finsent)",
   "language": "python",
   "name": "mon_env"
  },
  "language_info": {
   "codemirror_mode": {
    "name": "ipython",
    "version": 3
   },
   "file_extension": ".py",
   "mimetype": "text/x-python",
   "name": "python",
   "nbconvert_exporter": "python",
   "pygments_lexer": "ipython3",
   "version": "3.12.4"
  }
 },
 "nbformat": 4,
 "nbformat_minor": 2
}
